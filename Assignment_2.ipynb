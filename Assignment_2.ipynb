{
 "cells": [
  {
   "cell_type": "code",
   "execution_count": 1,
   "id": "higher-grain",
   "metadata": {},
   "outputs": [
    {
     "name": "stdout",
     "output_type": "stream",
     "text": [
      "\n",
      "      Boolean data type has 2 values either True or Fasle.In python while doing type casting any value other than 0 \n",
      "      is treated as True and 0 value is treated as False .True is treated as 1  & False is treated as 0\n",
      "\n",
      "      \n"
     ]
    }
   ],
   "source": [
    "##1. What are the Boolean data type's two values? How do you go about writing them?\n",
    "print('''\n",
    "      Boolean data type has 2 values either True or Fasle.In python while doing type casting any value other than 0 \n",
    "      is treated as True and 0 value is treated as False .True is treated as 1  & False is treated as 0.\n",
    "      True/False :-  Right way of writing not true , TRUE,false,FALSE . First char should be in uppercase\n",
    "      \n",
    "\n",
    "      ''')"
   ]
  },
  {
   "cell_type": "code",
   "execution_count": 2,
   "id": "finite-morocco",
   "metadata": {},
   "outputs": [
    {
     "name": "stdout",
     "output_type": "stream",
     "text": [
      "\n",
      "     and :-If both side True then True else False\n",
      "     or :- If either side  or both side is True then True else False\n",
      "     Not : -- True converted to False and vice-versa\n",
      "\n",
      "   \n"
     ]
    }
   ],
   "source": [
    "#2. What are the three different types of Boolean operators?\n",
    "print('''\n",
    "     and :-If both side True then True else False\n",
    "     or :- If either side  or both side is True then True else False\n",
    "     Not : -- True converted to False and vice-versa\n",
    "\n",
    "   ''')"
   ]
  },
  {
   "cell_type": "code",
   "execution_count": 3,
   "id": "arctic-cattle",
   "metadata": {},
   "outputs": [
    {
     "name": "stdout",
     "output_type": "stream",
     "text": [
      "\n",
      "---and----\n",
      "True and True    -- True\n",
      "True and False   -- False\n",
      "False and True   -- False\n",
      "False and False  -- False\n",
      "\n",
      "------or-----\n",
      "\n",
      "True or True    -- True\n",
      "True or False   -- True\n",
      "False or True   -- True\n",
      "False or False  -- False\n",
      "\n",
      "---not-----\n",
      "not True        -- False\n",
      "not False       -- True\n",
      "\n",
      "\n",
      "\n",
      "\n"
     ]
    }
   ],
   "source": [
    "##3 :-- 3. Make a list of each Boolean operator's truth tables (i.e. every possible combination of Boolean values for the operator and what it evaluate ).\n",
    "\n",
    "print('''\n",
    "---and----\n",
    "True and True    -- True\n",
    "True and False   -- False\n",
    "False and True   -- False\n",
    "False and False  -- False\n",
    "\n",
    "------or-----\n",
    "\n",
    "True or True    -- True\n",
    "True or False   -- True\n",
    "False or True   -- True\n",
    "False or False  -- False\n",
    "\n",
    "---not-----\n",
    "not True        -- False\n",
    "not False       -- True\n",
    "\n",
    "\n",
    "\n",
    "''')"
   ]
  },
  {
   "cell_type": "code",
   "execution_count": 4,
   "id": "recorded-madonna",
   "metadata": {},
   "outputs": [
    {
     "name": "stdout",
     "output_type": "stream",
     "text": [
      "False\n",
      "False\n",
      "True\n",
      "False\n",
      "False\n",
      "True\n"
     ]
    }
   ],
   "source": [
    "'''\n",
    "4. What are the values of the following expressions?\n",
    "\n",
    "(5 > 4) and (3 == 5)\n",
    "not (5 > 4)\n",
    "(5 > 4) or (3 == 5)\n",
    "not ((5 > 4) or (3 == 5))\n",
    "(True and True) and (True == False)\n",
    "(not False) or (not True)\n",
    "\n",
    "\n",
    "'''\n",
    "\n",
    "print((5 > 4) and (3 == 5))                    ###    False\n",
    "print(not (5 > 4))                             ###    False\n",
    "print((5 > 4) or (3 == 5))                     ###    True \n",
    "print(not ((5 > 4) or (3 == 5)))               ###    False\n",
    "print((True and True) and (True == False))     ###    False\n",
    "print((not False) or (not True))               ###    True"
   ]
  },
  {
   "cell_type": "code",
   "execution_count": 6,
   "id": "light-peoples",
   "metadata": {},
   "outputs": [
    {
     "name": "stdout",
     "output_type": "stream",
     "text": [
      "\n",
      "      Reference operators are :-- a<b --    a is smaller than b\n",
      "      Reference operators are :-- a<=b ---  a is either smaller than or equal to b\n",
      "      Reference operators are :-- a>b --    a is greater than b\n",
      "      Reference operators are :-- a>=b ---  a is either greater than or equal to b\n",
      "      Reference operators are :-- a==b --   a is equal to b\n",
      "     Reference operators are :--  a!=b --   a is not equal to b\n",
      "\n"
     ]
    }
   ],
   "source": [
    "\"\"\"5. What are the six different types of reference operators?\"\"\"\n",
    "print('''\n",
    "      Reference operators are :-- a<b --    a is smaller than b\n",
    "      Reference operators are :-- a<=b ---  a is either smaller than or equal to b\n",
    "      Reference operators are :-- a>b --    a is greater than b\n",
    "      Reference operators are :-- a>=b ---  a is either greater than or equal to b\n",
    "      Reference operators are :-- a==b --   a is equal to b\n",
    "     Reference operators are :--  a!=b --   a is not equal to b\n",
    "''')"
   ]
  },
  {
   "cell_type": "code",
   "execution_count": 7,
   "id": "provincial-thread",
   "metadata": {},
   "outputs": [
    {
     "name": "stdout",
     "output_type": "stream",
     "text": [
      "\n",
      "Equality Operator :-- a==b :-a is equal to b & it is comaprision between left & right value & evalutes to either True or False \n",
      "Assignement Operator :-- a=b :- Here we are assigning the value of b to a not comapring \n",
      "\n",
      "a=10\n",
      "b=5\n",
      "a==b :-  False\n",
      "a=b :- value of a will be changed to 5 \n",
      "\n"
     ]
    }
   ],
   "source": [
    "\"\"\"6. How do you tell the difference between the equal to and assignment operators?\"\"\"\n",
    "\n",
    "print(\"\"\"\n",
    "Equality Operator :-- a==b :-a is equal to b & it is comaprision between left & right value & evalutes to either True or False \n",
    "Assignement Operator :-- a=b :- Here we are assigning the value of b to a not comapring \n",
    "\n",
    "a=10\n",
    "b=5\n",
    "a==b :-  False\n",
    "a=b :- value of a will be changed to 5 \n",
    "\"\"\")"
   ]
  },
  {
   "cell_type": "code",
   "execution_count": 8,
   "id": "circular-hotel",
   "metadata": {},
   "outputs": [
    {
     "name": "stdout",
     "output_type": "stream",
     "text": [
      "Condition is used to dectate the program execution flow & python uses if , elif , else keyword & flow is \n",
      "       determined on conidtion clause( True & False)\n",
      "      \n",
      "10 no is greater than 5\n"
     ]
    }
   ],
   "source": [
    "\"\"\"7. Describe a condition and when you would use one.\"\"\"\n",
    "print('''Condition is used to dectate the program execution flow & python uses if , elif , else keyword & flow is \n",
    "       determined on conidtion clause( True & False)\n",
    "      ''')\n",
    "\n",
    "a=10\n",
    "if a >5:\n",
    "    print(\"{} no is greater than 5\".format(a))\n",
    "else:\n",
    "    print(\"{} no is less than 5\".format(a))"
   ]
  },
  {
   "cell_type": "code",
   "execution_count": 9,
   "id": "cosmetic-defendant",
   "metadata": {},
   "outputs": [
    {
     "name": "stdout",
     "output_type": "stream",
     "text": [
      "spam\n"
     ]
    }
   ],
   "source": [
    "spam = 0\n",
    "if spam == 10: # 0==10 false & directly will go to respective else statement \n",
    "    print('eggs')\n",
    "    if spam > 5:\n",
    "        print('bacon')\n",
    "    else:\n",
    "        print('ham')\n",
    "    print('spam')   ## This print will be executed\n",
    "print('spam')"
   ]
  },
  {
   "cell_type": "code",
   "execution_count": 15,
   "id": "greek-madonna",
   "metadata": {},
   "outputs": [
    {
     "name": "stdout",
     "output_type": "stream",
     "text": [
      "Enter the spam value: --- 2\n"
     ]
    },
    {
     "ename": "SyntaxError",
     "evalue": "'break' outside loop (<ipython-input-15-5dc992fde663>, line 11)",
     "output_type": "error",
     "traceback": [
      "\u001b[1;36m  File \u001b[1;32m\"<ipython-input-15-5dc992fde663>\"\u001b[1;36m, line \u001b[1;32m11\u001b[0m\n\u001b[1;33m    break\u001b[0m\n\u001b[1;37m    ^\u001b[0m\n\u001b[1;31mSyntaxError\u001b[0m\u001b[1;31m:\u001b[0m 'break' outside loop\n"
     ]
    }
   ],
   "source": [
    "\"\"\"\n",
    "9. Create a programme that prints. If 1 is stored in spam, prints Hello; if 2 is stored in spam, prints Howdy; \n",
    "and if 3 is stored in spam, prints Salutations! if there's something else in spam.\n",
    "\"\"\"\n",
    "\n",
    "spam=int(input(\"Enter the spam value: --- \"))\n",
    "\n",
    "if spam ==1:\n",
    "    print(\"Hello\")\n",
    "elif spam==2:\n",
    "    print(\"Howdy\")\n",
    "elif spam==3:\n",
    "    print(\"Salutations!\")\n",
    "else:\n",
    "    print(\"\")\n"
   ]
  },
  {
   "cell_type": "code",
   "execution_count": 14,
   "id": "later-windows",
   "metadata": {},
   "outputs": [
    {
     "name": "stdout",
     "output_type": "stream",
     "text": [
      "ctrl+c\n"
     ]
    }
   ],
   "source": [
    "\"\"\"10.If your programme is stuck in an endless loop, what keys can you press?\"\"\"\n",
    "print(\"ctrl+c\")"
   ]
  },
  {
   "cell_type": "code",
   "execution_count": null,
   "id": "independent-corps",
   "metadata": {},
   "outputs": [],
   "source": [
    "\"\"\"11. How can you tell the difference between break and continue?\"\"\"\n",
    "print('''\n",
    "Break :- Break stops loop execution & start executing statements after the loop\n",
    "continue :- continue will send the excution cycle to loop again and will not print\n",
    "           the statements after the continue statement if matched \n",
    "\n",
    "''')"
   ]
  },
  {
   "cell_type": "code",
   "execution_count": 20,
   "id": "false-prefix",
   "metadata": {},
   "outputs": [
    {
     "name": "stdout",
     "output_type": "stream",
     "text": [
      "[0, 1, 2, 3, 4, 5, 6, 7, 8, 9]\n",
      "[0, 1, 2, 3, 4, 5, 6, 7, 8, 9]\n",
      "[0, 1, 2, 3, 4, 5, 6, 7, 8, 9]\n",
      "All same\n"
     ]
    }
   ],
   "source": [
    "\"\"\" 12 :-  In a for loop, what is the difference between range(10), range(0, 10), and range(0, 10, 1)?\"\"\"\n",
    "i=[]\n",
    "j=[]\n",
    "k=[]\n",
    "for c in range(10):\n",
    "    i.append(c)\n",
    "\n",
    "for c in range(0,10):\n",
    "    j.append(c)\n",
    "\n",
    "for c in range(0,10,1):\n",
    "    k.append(c)\n",
    "print(i)\n",
    "print(j)\n",
    "print(k)\n",
    "if i==j and j==k:\n",
    "    print( \"All same\")\n",
    "else :\n",
    "    print(\"All different\")"
   ]
  },
  {
   "cell_type": "code",
   "execution_count": 25,
   "id": "alike-thriller",
   "metadata": {},
   "outputs": [
    {
     "name": "stdout",
     "output_type": "stream",
     "text": [
      "1\n",
      "2\n",
      "3\n",
      "4\n",
      "5\n",
      "6\n",
      "7\n",
      "8\n",
      "9\n",
      "10\n",
      "!!!!!!!!!!!!!!!!!!!!!!!!!!!!!!!!\n",
      "1\n",
      "2\n",
      "3\n",
      "4\n",
      "5\n",
      "6\n",
      "7\n",
      "8\n",
      "9\n",
      "10\n",
      "!!!!!!!!!!!!!!!!!!!!!!!!!!!!!!!!\n"
     ]
    }
   ],
   "source": [
    "\"\"\"13. Using a for loop, write a short programme that prints the numbers 1 to 10 Then, \n",
    "      using a while loop, create an identical programme that prints the numbers 1 to 10.\"\"\"\n",
    "\n",
    "for f in range(1,11):\n",
    "    print(f)\n",
    "\n",
    "print(\"!!!!!!!!!!!!!!!!!!!!!!!!!!!!!!!!\")\n",
    "w=1\n",
    "while w <=10:\n",
    "    print(w)\n",
    "    w=w+1\n",
    "print(\"!!!!!!!!!!!!!!!!!!!!!!!!!!!!!!!!\")"
   ]
  },
  {
   "cell_type": "code",
   "execution_count": 26,
   "id": "interested-malaysia",
   "metadata": {},
   "outputs": [
    {
     "name": "stdout",
     "output_type": "stream",
     "text": [
      "First way :- \n",
      "        import spam as s\n",
      "        s.bacon()\n",
      "        \n",
      "Second way :- \n",
      "        from spam import *\n",
      "        bacon()\n",
      "        \n",
      "Third way :- \n",
      "        from spam import bacon as b\n",
      "        b()\n",
      "        \n"
     ]
    }
   ],
   "source": [
    "\"\"\"14. If you had a bacon() function within a spam module, how  would you call it after importing spam?\"\"\"\n",
    "\n",
    "print('''First way :- \n",
    "        import spam as s\n",
    "        s.bacon()\n",
    "        ''')\n",
    "print('''Second way :- \n",
    "        from spam import *\n",
    "        bacon()\n",
    "        ''')\n",
    "print('''Third way :- \n",
    "        from spam import bacon as b\n",
    "        b()\n",
    "        ''')"
   ]
  },
  {
   "cell_type": "code",
   "execution_count": null,
   "id": "convinced-highland",
   "metadata": {},
   "outputs": [],
   "source": []
  }
 ],
 "metadata": {
  "kernelspec": {
   "display_name": "Python 3",
   "language": "python",
   "name": "python3"
  },
  "language_info": {
   "codemirror_mode": {
    "name": "ipython",
    "version": 3
   },
   "file_extension": ".py",
   "mimetype": "text/x-python",
   "name": "python",
   "nbconvert_exporter": "python",
   "pygments_lexer": "ipython3",
   "version": "3.8.3"
  }
 },
 "nbformat": 4,
 "nbformat_minor": 5
}
