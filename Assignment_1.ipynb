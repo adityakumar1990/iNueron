{
 "cells": [
  {
   "cell_type": "code",
   "execution_count": 4,
   "id": "antique-alberta",
   "metadata": {},
   "outputs": [
    {
     "name": "stdout",
     "output_type": "stream",
     "text": [
      "Below are the operators : --- \n",
      "Multiplication operator :-- *\n",
      "Minus operator :--  -\n",
      "Floating point division operator :-- /\n",
      "Addition operator :-- +\n",
      "--------------------------\n",
      "Below are the values which is used by assigning it to some variable : --\n",
      "String type value/variable :-- 'hello'\n",
      "Float type variable :--  -87.8 \n",
      "Integer type variable :-- 6\n",
      "--------------------------\n"
     ]
    }
   ],
   "source": [
    "\"\"\"\n",
    "1. What are the differences between operators and values in the following?\n",
    "*\n",
    "'hello'\n",
    "-87.8\n",
    "-\n",
    "/\n",
    "+\n",
    "6\n",
    "\n",
    "\"\"\"\n",
    "#Solution :---\n",
    "print(\"Below are the operators : --- \",\"Multiplication operator :-- *\",\"Minus operator :--  -\"\n",
    "      ,\"Floating point division operator :-- /\",\"Addition operator :-- +\",sep=\"\\n\",end=\"\\n--------------------------\\n\")\n",
    "\n",
    "print(\"Below are the values which is used by assigning it to some variable : --\",\"String type value/variable :-- 'hello'\",\n",
    "      \"Float type variable :--  -87.8 \"\n",
    "      ,\"Integer type variable :-- 6\",sep=\"\\n\",end=\"\\n--------------------------\\n\")"
   ]
  },
  {
   "cell_type": "code",
   "execution_count": 6,
   "id": "killing-rochester",
   "metadata": {},
   "outputs": [
    {
     "name": "stdout",
     "output_type": "stream",
     "text": [
      "Variable is name of the reference of any data type stored somewhere in memory & it stores the memory address\n",
      "\n",
      "String is a data type which stores any type of characters and it should be always enclosed in '' or \"\" \n"
     ]
    }
   ],
   "source": [
    "\"\"\"\n",
    "2. What is the difference between string and variable?\n",
    "spam :--- variable name \n",
    "'spam' :--- string data type \n",
    "\n",
    "\"\"\"\n",
    "print(\"Variable is name of the reference of any data type stored somewhere in memory & it stores the memory address\"\n",
    "      ,end=\"\\n\\n\")\n",
    "\n",
    "print(\"\"\"String is a data type which stores any type of characters and it should be always enclosed in '' or \"\" \"\"\")"
   ]
  },
  {
   "cell_type": "code",
   "execution_count": 7,
   "id": "exempt-cisco",
   "metadata": {},
   "outputs": [
    {
     "name": "stdout",
     "output_type": "stream",
     "text": [
      " In python there are mainly 2 types of data types .One is primitive data type & another one is collection data type.\n",
      "       Inside primitive data type string , integer, float , complex  , bool data type comes while for collection data \n",
      "       type list, tuple, set , frozen set , dict , range comes  \n"
     ]
    }
   ],
   "source": [
    "# 3. Describe three different data forms.\n",
    "print(\"\"\" In python there are mainly 2 types of data types .One is primitive data type & another one is collection data type.\n",
    "       Inside primitive data type string , integer, float , complex  , bool data type comes while for collection data \n",
    "       type list, tuple, set , frozen set , dict , range comes  \"\"\")"
   ]
  },
  {
   "cell_type": "code",
   "execution_count": 16,
   "id": "silver-furniture",
   "metadata": {},
   "outputs": [
    {
     "name": "stdout",
     "output_type": "stream",
     "text": [
      "         \n",
      "         Expresion contains variable , operators & variable values \n",
      "         EX:- a=5+7 In this a is var , 5 & 7 are values & +,= are operators \n",
      "\n",
      "\n",
      " Operators manipuates or transform the values of a variable , assigning value , addition , multiplication\n"
     ]
    }
   ],
   "source": [
    "##Q4 : --- What makes up an expression? What are the functions of all expressions?\n",
    "\n",
    "print('''         \n",
    "         Expresion contains variable , operators &  values & it gets evalauted to some value.\n",
    "         EX:- a=5+7 In this a is var , 5 & 7 are values & +,= are operators ''',end=\"\\n\\n\\n\")\n"
   ]
  },
  {
   "cell_type": "code",
   "execution_count": 25,
   "id": "assisted-respect",
   "metadata": {},
   "outputs": [
    {
     "name": "stdout",
     "output_type": "stream",
     "text": [
      "         \n",
      "         Expresion contains variable , operators &  values & it gets evalauted to some value.\n",
      "         EX:- a=5+7 In this a is var , 5 & 7 are values & +,= are operators \n",
      "\n",
      "\n",
      "Decalaration is an statement where we assign some values to a variable be it string , int & flaot .No data type needed\n"
     ]
    }
   ],
   "source": [
    "##Q5 :-  . What's the difference between a declaration and an expression?\n",
    "\n",
    "print('''         \n",
    "         Expresion contains variable , operators &  values & it gets evalauted to some value.\n",
    "         EX:- a=5+7 In this a is var , 5 & 7 are values & +,= are operators ''',end=\"\\n\\n\\n\")\n",
    "\n",
    "print(\"Decalaration is an statement where we assign some values to a variable be it string , int & flaot .No data type needed\")"
   ]
  },
  {
   "cell_type": "code",
   "execution_count": 24,
   "id": "stunning-gamma",
   "metadata": {},
   "outputs": [
    {
     "name": "stdout",
     "output_type": "stream",
     "text": [
      "23\n",
      "Since second statement bacon + 1 is not assigned to any variable so bacon value would remain 22 \n"
     ]
    }
   ],
   "source": [
    "#Q6 :- \n",
    "bacon = 22\n",
    "bacon+1\n",
    "print(bacon + 1) ## 23 prinited but not assigned to any variable\n",
    "print(\"Since second statement bacon + 1 is not assigned to any variable so bacon value would remain 22 \")\n"
   ]
  },
  {
   "cell_type": "code",
   "execution_count": 18,
   "id": "unique-texture",
   "metadata": {},
   "outputs": [
    {
     "name": "stdout",
     "output_type": "stream",
     "text": [
      "spamspamspam\n",
      "spamspamspam\n"
     ]
    }
   ],
   "source": [
    "'''\n",
    "7. What should the values of the following two terms be?\n",
    "'spam' + 'spamspam'\n",
    "'spam' * 3\n",
    "'''\n",
    "\n",
    "print('spam' + 'spamspam') #spamspamspam\n",
    "print('spam' * 3)          #spamspamspam\n",
    "#Note :- 'spam' *3 & 3 * 'spam' will result into same value"
   ]
  },
  {
   "cell_type": "code",
   "execution_count": 20,
   "id": "theoretical-george",
   "metadata": {},
   "outputs": [
    {
     "name": "stdout",
     "output_type": "stream",
     "text": [
      "Variable value should start from alphabets & _  but in case of 100 it is starting with number so invalid \n"
     ]
    }
   ],
   "source": [
    "##8. Why is it that eggs is a true variable name but 100 is not?\n",
    "print(\"Variable value should start from alphabets & _  but in case of 100 it is starting with number so invalid \")"
   ]
  },
  {
   "cell_type": "code",
   "execution_count": null,
   "id": "enclosed-barrier",
   "metadata": {},
   "outputs": [],
   "source": [
    "'''\n",
    "9. Which of the following three functions may be used to convert a value to an integer,\n",
    "a floating-point number, or a string?\n",
    "'''\n",
    "print(\"Below are the type casting functions : --\")\n",
    "print(\"To convert into String :- str() \")\n",
    "print(\"To convert into Numeric :- int() \")\n",
    "print(\"To convert into float :- float() \")"
   ]
  },
  {
   "cell_type": "code",
   "execution_count": 22,
   "id": "imposed-longer",
   "metadata": {},
   "outputs": [
    {
     "name": "stdout",
     "output_type": "stream",
     "text": [
      "The error will occur because of different data type like str & int getting added together\n",
      "TypeError: can only concatenate str (not \"int\") to str\n",
      "TO remove this error we  have to enlose the 99 into either '' or \"\" \n",
      "I have eaten 99 burritos.\n"
     ]
    }
   ],
   "source": [
    "'''\n",
    "10. What is the error caused by this expression? What would you do about it?\n",
    "\n",
    "'I have eaten ' + 99 + ' burritos.'\n",
    "\n",
    "'''\n",
    "print(\"The error will occur because of different data type like str & int getting added together\")\n",
    "\n",
    "##  print('I have eaten ' + 99 + ' burritos.')  ##invalid statement\n",
    "\n",
    "print('TypeError: can only concatenate str (not \"int\") to str')\n",
    "\n",
    "print('''TO remove this error we  have to enlose the 99 into either '' or \"\" ''')\n",
    "\n",
    "print('I have eaten ' + '99' + ' burritos.') # Valid statement "
   ]
  },
  {
   "cell_type": "code",
   "execution_count": null,
   "id": "failing-confusion",
   "metadata": {},
   "outputs": [],
   "source": []
  }
 ],
 "metadata": {
  "kernelspec": {
   "display_name": "Python 3",
   "language": "python",
   "name": "python3"
  },
  "language_info": {
   "codemirror_mode": {
    "name": "ipython",
    "version": 3
   },
   "file_extension": ".py",
   "mimetype": "text/x-python",
   "name": "python",
   "nbconvert_exporter": "python",
   "pygments_lexer": "ipython3",
   "version": "3.8.3"
  }
 },
 "nbformat": 4,
 "nbformat_minor": 5
}
